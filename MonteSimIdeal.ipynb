{
 "cells": [
  {
   "cell_type": "code",
   "execution_count": 3,
   "id": "5ac5a750",
   "metadata": {},
   "outputs": [],
   "source": [
    "import pandas as pd\n",
    "import numpy as np\n",
    "from MCForecastTools import MCSimulation\n",
    "import itertools"
   ]
  },
  {
   "cell_type": "code",
   "execution_count": 47,
   "id": "69d84408",
   "metadata": {},
   "outputs": [],
   "source": [
    "def Monte_Sim_Ideal(data):\n",
    "    \"\"\"\n",
    "    Finds portfolio weights for optimal portfolio based on Monte Carlo Simulation\n",
    "\n",
    "    data: dataframe\n",
    "    \"\"\"\n",
    "    #First we make a list of all possible weights for 5 stocks in increments of 0.1:\n",
    "    from itertools import product\n",
    "    s = [list(p/10 for p in prd) \n",
    "         for prd in product(range(11), repeat=5) if sum(prd) == 10]\n",
    "    #We need dummy variables to store best simulations\n",
    "    weight_ideal=[]\n",
    "    ci_upper_ideal_cumulative_return = 0\n",
    "    for i in range(len(s)):\n",
    "        MC = MCSimulation(\n",
    "        portfolio_data = data,\n",
    "        weights = s[i],\n",
    "        num_simulation = 500,\n",
    "        num_trading_days = 252*30)\n",
    "        MC.calc_cumulative_return()\n",
    "        MC_table=MC.summarize_cumulative_return()\n",
    "        if round(MC_table[9],2) > ci_upper_ideal_cumulative_return:\n",
    "            weight_ideal = s[i]\n",
    "            ci_upper_ideal_cumulative_return = round(MC_table[9],2)\n",
    "            ci_lower_ideal_cumulative_return = round(MC_table[8],2)\n",
    "    MC_ideal =MCSimulation(\n",
    "        portfolio_data = data,\n",
    "        weights = weight_ideal,\n",
    "        num_simulation = 500,\n",
    "        num_trading_days = 252*30)\n",
    "    MC_ideal.calc_cumulative_return()\n",
    "    print(MC_ideal.plot_simulation())\n",
    "    print(f\"The weights with the highest possible portfolio return are ${weight_ideal}, which with a probability of 95% will fall between ${ci_lower_thirty_cumulative_return} and ${ci_upper_thirty_cumulative_return}.\")"
   ]
  },
  {
   "cell_type": "code",
   "execution_count": null,
   "id": "c104036a",
   "metadata": {},
   "outputs": [],
   "source": []
  }
 ],
 "metadata": {
  "kernelspec": {
   "display_name": "Python 3 (ipykernel)",
   "language": "python",
   "name": "python3"
  },
  "language_info": {
   "codemirror_mode": {
    "name": "ipython",
    "version": 3
   },
   "file_extension": ".py",
   "mimetype": "text/x-python",
   "name": "python",
   "nbconvert_exporter": "python",
   "pygments_lexer": "ipython3",
   "version": "3.7.1"
  }
 },
 "nbformat": 4,
 "nbformat_minor": 5
}
